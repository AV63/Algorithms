{
 "cells": [
  {
   "cell_type": "code",
   "execution_count": 36,
   "metadata": {},
   "outputs": [],
   "source": [
    "global N"
   ]
  },
  {
   "cell_type": "code",
   "execution_count": 37,
   "metadata": {},
   "outputs": [],
   "source": [
    "def printSolution(board):\n",
    "    for i in range(N):\n",
    "        for j in range(N):\n",
    "            print(board[i][j],end = ' ')\n",
    "        print()"
   ]
  },
  {
   "cell_type": "code",
   "execution_count": 38,
   "metadata": {},
   "outputs": [],
   "source": [
    "def is_safe(board,row,col):\n",
    "    \n",
    "    for i in range(col):\n",
    "        if board[row][i] == 1:\n",
    "            return False\n",
    "        \n",
    "    for i,j in zip(range(row,-1,-1),range(col,-1,-1)):\n",
    "        if board[i][j] == 1:\n",
    "            return False\n",
    "    \n",
    "    for i,j in zip(range(row,N,1),range(col,-1,-1)):\n",
    "        if board[i][j] == 1:\n",
    "            return False\n",
    "    \n",
    "    return True"
   ]
  },
  {
   "cell_type": "code",
   "execution_count": 39,
   "metadata": {},
   "outputs": [],
   "source": [
    "def solveUntil(board,col):\n",
    "    \n",
    "    if col >= N:\n",
    "        return True\n",
    "    \n",
    "    for i in range(N):\n",
    "        if is_safe(board,i,col):\n",
    "            \n",
    "            board[i][col] = 1\n",
    "            \n",
    "            if solveUntil(board,col + 1) == True:\n",
    "                return True\n",
    "                \n",
    "            board[i][col] = 0"
   ]
  },
  {
   "cell_type": "code",
   "execution_count": 40,
   "metadata": {},
   "outputs": [],
   "source": [
    "def solve():\n",
    "    board = [[0 for _ in range(N)] for _ in range(N)]\n",
    "    if solveUntil(board,0) == False:\n",
    "        print('Solution does not exist')\n",
    "        return False\n",
    "    printSolution(board)\n",
    "    return True"
   ]
  },
  {
   "cell_type": "code",
   "execution_count": 41,
   "metadata": {},
   "outputs": [
    {
     "name": "stdout",
     "output_type": "stream",
     "text": [
      "Enter the the number of rows or columns in the board 6\n",
      "0 0 0 1 0 0 \n",
      "1 0 0 0 0 0 \n",
      "0 0 0 0 1 0 \n",
      "0 1 0 0 0 0 \n",
      "0 0 0 0 0 1 \n",
      "0 0 1 0 0 0 \n"
     ]
    },
    {
     "data": {
      "text/plain": [
       "True"
      ]
     },
     "execution_count": 41,
     "metadata": {},
     "output_type": "execute_result"
    }
   ],
   "source": [
    "N = int(input('Enter the the number of rows or columns in the board '))\n",
    "solve()\n"
   ]
  }
 ],
 "metadata": {
  "kernelspec": {
   "display_name": "Python 3",
   "language": "python",
   "name": "python3"
  },
  "language_info": {
   "codemirror_mode": {
    "name": "ipython",
    "version": 3
   },
   "file_extension": ".py",
   "mimetype": "text/x-python",
   "name": "python",
   "nbconvert_exporter": "python",
   "pygments_lexer": "ipython3",
   "version": "3.7.3"
  }
 },
 "nbformat": 4,
 "nbformat_minor": 2
}
